{
 "cells": [
  {
   "cell_type": "code",
   "execution_count": 56,
   "id": "0a5dbc19",
   "metadata": {},
   "outputs": [
    {
     "name": "stdout",
     "output_type": "stream",
     "text": [
      "[[ 1  1  1  1  1  1  1  1  1  1  1  1  1  1  1  1]\n",
      " [ 1 -1  1 -1  1 -1  1 -1  1 -1  1 -1  1 -1  1 -1]\n",
      " [ 1  1 -1 -1  1  1 -1 -1  1  1 -1 -1  1  1 -1 -1]\n",
      " [ 1 -1 -1  1  1 -1 -1  1  1 -1 -1  1  1 -1 -1  1]\n",
      " [ 1  1  1  1 -1 -1 -1 -1  1  1  1  1 -1 -1 -1 -1]\n",
      " [ 1 -1  1 -1 -1  1 -1  1  1 -1  1 -1 -1  1 -1  1]\n",
      " [ 1  1 -1 -1 -1 -1  1  1  1  1 -1 -1 -1 -1  1  1]\n",
      " [ 1 -1 -1  1 -1  1  1 -1  1 -1 -1  1 -1  1  1 -1]\n",
      " [ 1  1  1  1  1  1  1  1 -1 -1 -1 -1 -1 -1 -1 -1]\n",
      " [ 1 -1  1 -1  1 -1  1 -1 -1  1 -1  1 -1  1 -1  1]\n",
      " [ 1  1 -1 -1  1  1 -1 -1 -1 -1  1  1 -1 -1  1  1]\n",
      " [ 1 -1 -1  1  1 -1 -1  1 -1  1  1 -1 -1  1  1 -1]\n",
      " [ 1  1  1  1 -1 -1 -1 -1 -1 -1 -1 -1  1  1  1  1]\n",
      " [ 1 -1  1 -1 -1  1 -1  1 -1  1 -1  1  1 -1  1 -1]\n",
      " [ 1  1 -1 -1 -1 -1  1  1 -1 -1  1  1  1  1 -1 -1]\n",
      " [ 1 -1 -1  1 -1  1  1 -1 -1  1  1 -1  1 -1 -1  1]]\n"
     ]
    }
   ],
   "source": [
    "# code pour generer la matrice d'Hadamard\n",
    "import numpy as np\n",
    "\n",
    "def Hadamard(M):\n",
    "    M_v = M -1\n",
    "   # Programe pour n = 2^M\n",
    "    n = 2 ** M_v\n",
    " \n",
    "    # Initialisation de la matrice d'ordre n\n",
    "    hadamard = np.zeros([n, n],'i') # i pour specifier entier (dtype=int32) pour eviter les affichages float.\n",
    "     \n",
    "    # initialisation H0 = 1\n",
    "    hadamard[0][0] = 1\n",
    "     \n",
    "    k = 1\n",
    "    while (k  < n):\n",
    " \n",
    "        # Deux boucles pour copier de facon recursive (la recursivite est sur K) \n",
    "         #les elements de la matrice en fonction de l'evolution de k\n",
    "        for i in range(k):\n",
    "            for j in range(k):\n",
    "                hadamard[i + k][j] = hadamard[i][j];\n",
    "                hadamard[i][j + k] = hadamard[i][j];\n",
    "                hadamard[i + k][j + k] = -hadamard[i][j];\n",
    "        k *= 2\n",
    " \n",
    "    # affichage de la matrice Hadamard\n",
    "    print(np.array(hadamard))\n",
    " \n",
    " \n",
    "Hadamard(5);"
   ]
  },
  {
   "cell_type": "code",
   "execution_count": null,
   "id": "d2d663ca",
   "metadata": {},
   "outputs": [],
   "source": []
  }
 ],
 "metadata": {
  "kernelspec": {
   "display_name": "Python 3 (ipykernel)",
   "language": "python",
   "name": "python3"
  },
  "language_info": {
   "codemirror_mode": {
    "name": "ipython",
    "version": 3
   },
   "file_extension": ".py",
   "mimetype": "text/x-python",
   "name": "python",
   "nbconvert_exporter": "python",
   "pygments_lexer": "ipython3",
   "version": "3.11.2"
  }
 },
 "nbformat": 4,
 "nbformat_minor": 5
}
